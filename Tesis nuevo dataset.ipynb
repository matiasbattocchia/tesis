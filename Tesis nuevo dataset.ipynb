{
 "cells": [
  {
   "cell_type": "code",
   "execution_count": 1,
   "metadata": {},
   "outputs": [],
   "source": [
    "import numpy as np\n",
    "import pandas as pd\n",
    "import matplotlib.pyplot as plt\n",
    "import seaborn as sn\n",
    "%matplotlib inline"
   ]
  },
  {
   "cell_type": "code",
   "execution_count": 3,
   "metadata": {},
   "outputs": [],
   "source": [
    "from spacy.lang.en import English\n",
    "nlp = English()"
   ]
  },
  {
   "cell_type": "code",
   "execution_count": 3,
   "metadata": {},
   "outputs": [],
   "source": [
    "url = 'http://www.plosone.org/article/fetchSingleRepresentation.action?uri=info:doi/10.1371/journal.pone.0026752.s001'\n",
    "labmt = pd.read_csv(url, skiprows=2, sep='\\t', index_col=0) "
   ]
  },
  {
   "cell_type": "code",
   "execution_count": 4,
   "metadata": {},
   "outputs": [],
   "source": [
    "felicidad_no_centrada = labmt.happiness_average.to_dict()\n",
    "felicidad_centrada    = (labmt.happiness_average - labmt.happiness_average.mean()).to_dict()"
   ]
  },
  {
   "cell_type": "code",
   "execution_count": 247,
   "metadata": {},
   "outputs": [
    {
     "data": {
      "text/plain": [
       "<matplotlib.axes._subplots.AxesSubplot at 0x7f0b815b8b38>"
      ]
     },
     "execution_count": 247,
     "metadata": {},
     "output_type": "execute_result"
    },
    {
     "data": {
      "image/png": "[encoded data removed]",
      "text/plain": [
       "<Figure size 432x288 with 1 Axes>"
      ]
     },
     "metadata": {
      "needs_background": "light"
     },
     "output_type": "display_data"
    }
   ],
   "source": [
    "labmt.happiness_average.plot.hist()"
   ]
  },
  {
   "cell_type": "code",
   "execution_count": 248,
   "metadata": {},
   "outputs": [
    {
     "data": {
      "text/plain": [
       "count    10222.000000\n",
       "mean         5.375240\n",
       "std          1.084905\n",
       "min          1.300000\n",
       "25%          4.900000\n",
       "50%          5.440000\n",
       "75%          6.020000\n",
       "max          8.500000\n",
       "Name: happiness_average, dtype: float64"
      ]
     },
     "execution_count": 248,
     "metadata": {},
     "output_type": "execute_result"
    }
   ],
   "source": [
    "labmt.happiness_average.describe()"
   ]
  },
  {
   "cell_type": "markdown",
   "metadata": {},
   "source": [
    "## Sentiment140\n",
    "\n",
    "* http://help.sentiment140.com/for-students\n",
    "* https://cs.stanford.edu/people/alecmgo/papers/TwitterDistantSupervision09.pdf"
   ]
  },
  {
   "cell_type": "code",
   "execution_count": 6,
   "metadata": {},
   "outputs": [],
   "source": [
    "df = pd.read_csv('sentiment140/testdata.manual.2009.06.14.csv',\n",
    "                 header=None, index_col='id', names=['sentiment','id','text'], usecols=[0,1,5])"
   ]
  },
  {
   "cell_type": "code",
   "execution_count": 7,
   "metadata": {},
   "outputs": [],
   "source": [
    "clases = {0:'negativo',2:'neutral',4:'positivo'}\n",
    "\n",
    "df.sentiment = df.sentiment.apply(clases.get)"
   ]
  },
  {
   "cell_type": "code",
   "execution_count": 8,
   "metadata": {},
   "outputs": [],
   "source": [
    "df = df[df.sentiment.isin(['positivo','negativo'])].copy()"
   ]
  },
  {
   "cell_type": "code",
   "execution_count": 9,
   "metadata": {},
   "outputs": [
    {
     "data": {
      "text/html": [
       "<div>\n",
       "<style scoped>\n",
       "    .dataframe tbody tr th:only-of-type {\n",
       "        vertical-align: middle;\n",
       "    }\n",
       "\n",
       "    .dataframe tbody tr th {\n",
       "        vertical-align: top;\n",
       "    }\n",
       "\n",
       "    .dataframe thead th {\n",
       "        text-align: right;\n",
       "    }\n",
       "</style>\n",
       "<table border=\"1\" class=\"dataframe\">\n",
       "  <thead>\n",
       "    <tr style=\"text-align: right;\">\n",
       "      <th></th>\n",
       "      <th>sentiment</th>\n",
       "      <th>text</th>\n",
       "    </tr>\n",
       "    <tr>\n",
       "      <th>id</th>\n",
       "      <th></th>\n",
       "      <th></th>\n",
       "    </tr>\n",
       "  </thead>\n",
       "  <tbody>\n",
       "    <tr>\n",
       "      <th>3</th>\n",
       "      <td>positivo</td>\n",
       "      <td>@stellargirl I loooooooovvvvvveee my Kindle2. ...</td>\n",
       "    </tr>\n",
       "    <tr>\n",
       "      <th>4</th>\n",
       "      <td>positivo</td>\n",
       "      <td>Reading my kindle2...  Love it... Lee childs i...</td>\n",
       "    </tr>\n",
       "    <tr>\n",
       "      <th>5</th>\n",
       "      <td>positivo</td>\n",
       "      <td>Ok, first assesment of the #kindle2 ...it fuck...</td>\n",
       "    </tr>\n",
       "    <tr>\n",
       "      <th>6</th>\n",
       "      <td>positivo</td>\n",
       "      <td>@kenburbary You'll love your Kindle2. I've had...</td>\n",
       "    </tr>\n",
       "    <tr>\n",
       "      <th>7</th>\n",
       "      <td>positivo</td>\n",
       "      <td>@mikefish  Fair enough. But i have the Kindle2...</td>\n",
       "    </tr>\n",
       "  </tbody>\n",
       "</table>\n",
       "</div>"
      ],
      "text/plain": [
       "   sentiment                                               text\n",
       "id                                                             \n",
       "3   positivo  @stellargirl I loooooooovvvvvveee my Kindle2. ...\n",
       "4   positivo  Reading my kindle2...  Love it... Lee childs i...\n",
       "5   positivo  Ok, first assesment of the #kindle2 ...it fuck...\n",
       "6   positivo  @kenburbary You'll love your Kindle2. I've had...\n",
       "7   positivo  @mikefish  Fair enough. But i have the Kindle2..."
      ]
     },
     "execution_count": 9,
     "metadata": {},
     "output_type": "execute_result"
    }
   ],
   "source": [
    "df.head()"
   ]
  },
  {
   "cell_type": "code",
   "execution_count": 10,
   "metadata": {},
   "outputs": [],
   "source": [
    "df['tokens'] = df.text.apply(lambda text: [t.lower_ for t in nlp(text)])\n",
    "\n",
    "df['puntajes'] = df.tokens.apply(lambda tokens: np.array(list(map(felicidad_centrada.get, tokens)), dtype=np.float))\n",
    "\n",
    "df['puntaje'] = df.puntajes.apply(lambda p: np.mean(p[~np.isnan(p)])).fillna(0)"
   ]
  },
  {
   "cell_type": "code",
   "execution_count": 11,
   "metadata": {},
   "outputs": [
    {
     "data": {
      "text/plain": [
       "0.7966573816155988"
      ]
     },
     "execution_count": 11,
     "metadata": {},
     "output_type": "execute_result"
    }
   ],
   "source": [
    "from sklearn.metrics import accuracy_score\n",
    "\n",
    "accuracy_score(df.sentiment, df.puntaje.apply(lambda p: 'positivo' if p >= 0 else 'negativo'))"
   ]
  },
  {
   "cell_type": "markdown",
   "metadata": {},
   "source": [
    "## Erowid"
   ]
  },
  {
   "cell_type": "code",
   "execution_count": 2,
   "metadata": {},
   "outputs": [
    {
     "name": "stdout",
     "output_type": "stream",
     "text": [
      "<class 'pandas.core.frame.DataFrame'>\n",
      "RangeIndex: 31221 entries, 0 to 31220\n",
      "Data columns (total 10 columns):\n",
      " #   Column     Non-Null Count  Dtype  \n",
      "---  ------     --------------  -----  \n",
      " 0   author     31169 non-null  object \n",
      " 1   weight     29139 non-null  object \n",
      " 2   doses      31221 non-null  object \n",
      " 3   year       31168 non-null  object \n",
      " 4   id         31168 non-null  float64\n",
      " 5   gender     31168 non-null  object \n",
      " 6   age        31168 non-null  object \n",
      " 7   published  31168 non-null  object \n",
      " 8   tags       31168 non-null  object \n",
      " 9   text       31221 non-null  object \n",
      "dtypes: float64(1), object(9)\n",
      "memory usage: 2.4+ MB\n"
     ]
    }
   ],
   "source": [
    "df = pd.read_json('erowid/erowid.json.gz', lines=True)\n",
    "\n",
    "df.info()"
   ]
  },
  {
   "cell_type": "code",
   "execution_count": 5,
   "metadata": {
    "collapsed": true,
    "jupyter": {
     "outputs_hidden": true
    },
    "tags": []
   },
   "outputs": [
    {
     "name": "stdout",
     "output_type": "stream",
     "text": [
      "A-PVP - Oral Experience\n",
      "\n",
      "One evening, a vulcan man was bored. He wanted to test his ability to keep control of his mind's. Since he was just finishing a PvP match, he decided to try the substance.\n",
      "\n",
      "SETTING/ ENVIRONMENT\n",
      "\n",
      "TUVOK said he would take his usual preferred dose to start. No other substances were taken simultaneously. Last night's vulcan 'incense' had completely worn off. In his quarters laid on bed at home with cats in and out of room (pick-me-up). Parents sat across the house (threat). Not hungry but only ate lightly, one snack immediately before starting.\n",
      "\n",
      "Measured 2 x 50mg doses with empty capsules and closed (logical!). Previously had confirmed his vulcan physiology was not allergic and will live long and prosper after the test.\n",
      "\n",
      "BEGIN (t = 00:00)\n",
      "Washed down the 2 capsules together with a glass of lemonade. Laid back and waited patiently with voyager on in the background, moderate 'mood' lighting.\n",
      "\n",
      "CURIOUS (t + 00:20)\n",
      "Noticed: Can 'taste' in breathing that the capsules have begun to dissolve.\n",
      "\n",
      "MENTAL: Very mild, but steady increase in alertness and euphoria (almost like 4-mmc, but far more gradual).\n",
      "\n",
      "PHYSICAL: proportional increase in feeling cold & veins less visible under skin. Tuvok allows it to build. \n",
      "Current summary: optimistically.\n",
      "\n",
      "IMPRESSIVE (T + 00:40 )\n",
      "As he suspected the peak to be close, Tuvok added roughly 0.2mg to a 3ml e-cig tank and proceeded to enjoy.  About 1ml was vaped on 45w with a 0.39ohm coil. Janeway was furious.\n",
      "\n",
      "NOTICE: Vape tastes 'bland' not bad, feels 'gritty' on inhale but is having a notable impact on the come up rate. Returns to room to warm up before evaluating effect as its freezing outdoors.\n",
      "\n",
      "(t + 01:00)\n",
      "\n",
      "MENTAL: Floating slightly, mood lifted and the idea of a kitty to pet is very tempting. Similar to but not as intense (about 40-50%) the come up on 4-mmc. No agitation, discomfort or paranoia. Come up levelling off now.\n",
      "\n",
      "PHYSICAL: hand got numb off only a little pressure on my\n",
      "Mild shakiness\n",
      "\n",
      "Tuvok's parents are back and forth close by but unlike with cocaine hcl, it does not cause him to panic as they get closer.\n",
      "\n",
      "Current Summary: mellow\n",
      "\n",
      "Tuvok would like to emphasise that this is the closest cathinone to his preferred, long lost 4-mmc\n",
      "\n",
      "Euphoria comparison\n",
      "He used to do 2.0g every weekend orally and this come up peak off a gram is approx 66% but tolerence to cathinones is probably 50% of what it was when he used 4-mmc.\n",
      "A-pvp = 0.5 * 2/3 * (2x 4-mmc)\n",
      "A-pvp = 1/3 * 2 4-mmc\n",
      "= 66% effect per gram\n",
      "\n",
      "Summary\n",
      "A-pvp = 0.66*4-mmc\n",
      "3g a-pvp =/= 2g 4-mmc \n",
      "\n",
      "(t + 01:30)\n",
      "Yeah that took tuvok 30 minutes to apply his logic above in his current state!  Almost wants to try to 'maths' something crazy like counting the 'ticking' of the universe in intervals of mass instead -f time and drawing it... Anyway sorry vulcans love puzzles! \n",
      "\n",
      "Tuvok is writing this as he goes. No further report at this time however he is losing the cold feeling and very very gently and steadily sliding from his peak back down over. Feels to be about an hour from finished.\n",
      "\n",
      "(t + 01:45) vaping again and finding some problems to solve with numbers as the urge is overwhelming.\n",
      "\n",
      "(t+ 02:20) after finding the ratio between pizza/inch/pound between square and circular pizzas. Tuvok is pleased and things are levelling off. \n",
      "\n",
      "No comedown.\n",
      "No hearing stuff (normally ALWAYS do from other substances).\n",
      "\n",
      "Ready to lay down he thinks! \n",
      "\n",
      "OVERALL EVALUATION:\n",
      "\n",
      "Duration: roughly +02:45 from the swilling & pilling with lemonade very worth the money!\n",
      "\n",
      "MENTAL:\n",
      "I'd split this into good and bad, but bad would be empty\n",
      "-(euphoria/time) was very smooth up and down\n",
      "-stim effects were so overpowered by euphoria, tuvok determined them irrelevant to this scenario\n",
      "-no paranoia of parental movement (love this!)\n",
      "-become a mathematical prodigy for an evening! \n",
      "\n",
      "PHYSICAL:\n",
      "\n",
      "GOOD: no stiffness, mild jaw motion temperature changes small, no chest issues Tuvok's heart rate was fine throughout or at least didnt worry enough to measure it.\n",
      "\n",
      "BAD: strange random occurrences of blood flow issue in left arm leading to tingly fingers until tuvok focused on keeping it unobstructed.\n",
      "\n",
      "SUMMARY: \n",
      "This is genuinely the smoothest, least uncomfortable analogue tuvok has tested since the 4-mmc ban. It was so much so that he bothered to share this with you.\n",
      "\n",
      "Thirsty now! \n",
      "\n",
      "[Reported Dose: '100mg oral purity questionable']\n"
     ]
    }
   ],
   "source": [
    "print(df.iloc[0].text)"
   ]
  },
  {
   "cell_type": "code",
   "execution_count": 6,
   "metadata": {},
   "outputs": [
    {
     "data": {
      "text/plain": [
       "31221"
      ]
     },
     "execution_count": 6,
     "metadata": {},
     "output_type": "execute_result"
    }
   ],
   "source": [
    "len(df)"
   ]
  },
  {
   "cell_type": "markdown",
   "metadata": {},
   "source": [
    "### Data wrangling\n",
    "\n",
    "#### ID / Índice"
   ]
  },
  {
   "cell_type": "code",
   "execution_count": 7,
   "metadata": {},
   "outputs": [],
   "source": [
    "df.dropna(subset=['id'], inplace=True)\n",
    "df.id = df.id.astype(int)\n",
    "df.set_index('id', inplace=True)"
   ]
  },
  {
   "cell_type": "markdown",
   "metadata": {},
   "source": [
    "#### Texto\n",
    "\n",
    "Remover párrafos."
   ]
  },
  {
   "cell_type": "code",
   "execution_count": 8,
   "metadata": {},
   "outputs": [],
   "source": [
    "import re\n",
    "\n",
    "df.text = df.text.apply(lambda x: re.sub('[\\n\\s]+', ' ', x))"
   ]
  },
  {
   "cell_type": "markdown",
   "metadata": {},
   "source": [
    "Más largo que un tweet."
   ]
  },
  {
   "cell_type": "code",
   "execution_count": 9,
   "metadata": {},
   "outputs": [],
   "source": [
    "df = df[df.text.str.len() > 140].copy()"
   ]
  },
  {
   "cell_type": "markdown",
   "metadata": {},
   "source": [
    "#### Edad"
   ]
  },
  {
   "cell_type": "code",
   "execution_count": 10,
   "metadata": {},
   "outputs": [],
   "source": [
    "df.age  = pd.to_numeric(df.age,  errors='coerce')"
   ]
  },
  {
   "cell_type": "markdown",
   "metadata": {},
   "source": [
    "#### Año"
   ]
  },
  {
   "cell_type": "code",
   "execution_count": 11,
   "metadata": {},
   "outputs": [],
   "source": [
    "df.year = pd.to_numeric(df.year, errors='coerce')"
   ]
  },
  {
   "cell_type": "markdown",
   "metadata": {},
   "source": [
    "#### Sexo"
   ]
  },
  {
   "cell_type": "code",
   "execution_count": 12,
   "metadata": {},
   "outputs": [
    {
     "data": {
      "text/plain": [
       "Male      24823\n",
       "Female     4390\n",
       "Name: gender, dtype: int64"
      ]
     },
     "execution_count": 12,
     "metadata": {},
     "output_type": "execute_result"
    }
   ],
   "source": [
    "df.gender.replace('Not Specified', np.nan, inplace=True)\n",
    "df.gender.value_counts()"
   ]
  },
  {
   "cell_type": "markdown",
   "metadata": {},
   "source": [
    "#### Peso corporal"
   ]
  },
  {
   "cell_type": "code",
   "execution_count": 13,
   "metadata": {},
   "outputs": [],
   "source": [
    "def conversión_lb_a_kg(string):\n",
    "    if type(string) is not str:\n",
    "        return np.nan\n",
    "    \n",
    "    masa, unidad = string.split(' ')\n",
    "    masa = float(masa)\n",
    "    \n",
    "    if unidad == 'lb':\n",
    "        masa /= 2.205\n",
    "    \n",
    "    return round(masa, 1)"
   ]
  },
  {
   "cell_type": "code",
   "execution_count": 14,
   "metadata": {},
   "outputs": [],
   "source": [
    "df.weight = df.weight.apply(conversión_lb_a_kg)"
   ]
  },
  {
   "cell_type": "markdown",
   "metadata": {},
   "source": [
    "#### Fecha de publicación"
   ]
  },
  {
   "cell_type": "code",
   "execution_count": 15,
   "metadata": {},
   "outputs": [],
   "source": [
    "df.published = pd.to_datetime(df.published, errors='coerce')"
   ]
  },
  {
   "cell_type": "markdown",
   "metadata": {},
   "source": [
    "#### Dosaje / Substancias"
   ]
  },
  {
   "cell_type": "markdown",
   "metadata": {},
   "source": [
    "Frecuencia de cantidad de dosis."
   ]
  },
  {
   "cell_type": "code",
   "execution_count": 16,
   "metadata": {},
   "outputs": [
    {
     "data": {
      "text/plain": [
       "3      3220\n",
       "1     16817\n",
       "0       416\n",
       "2      7247\n",
       "7       253\n",
       "6       420\n",
       "5       777\n",
       "4      1595\n",
       "14       20\n",
       "9       130\n",
       "11       27\n",
       "12       20\n",
       "13        8\n",
       "8       146\n",
       "10       43\n",
       "Name: doses, dtype: int64"
      ]
     },
     "execution_count": 16,
     "metadata": {},
     "output_type": "execute_result"
    }
   ],
   "source": [
    "df.doses.apply(len).value_counts(sort=False)"
   ]
  },
  {
   "cell_type": "code",
   "execution_count": 17,
   "metadata": {},
   "outputs": [],
   "source": [
    "df['substances'] = df.doses.apply(lambda dosis: len(set(map(lambda x: x.get('substance'), dosis))))"
   ]
  },
  {
   "cell_type": "code",
   "execution_count": 18,
   "metadata": {},
   "outputs": [
    {
     "data": {
      "text/plain": [
       "1     19405\n",
       "2      7091\n",
       "3      2596\n",
       "4       979\n",
       "0       416\n",
       "5       366\n",
       "6       152\n",
       "7        83\n",
       "8        31\n",
       "9        12\n",
       "10        4\n",
       "11        2\n",
       "12        2\n",
       "Name: substances, dtype: int64"
      ]
     },
     "execution_count": 18,
     "metadata": {},
     "output_type": "execute_result"
    }
   ],
   "source": [
    "df.substances.value_counts()"
   ]
  },
  {
   "cell_type": "markdown",
   "metadata": {},
   "source": [
    "### Mono consumo\n",
    "\n",
    "Podríamos hacer un conteo similar para los métodos pero por ahora vamos a suponer que importa más la substancia que el método de ingesta."
   ]
  },
  {
   "cell_type": "code",
   "execution_count": 19,
   "metadata": {},
   "outputs": [],
   "source": [
    "df = df[df.substances.eq(1)].drop(columns='substances')"
   ]
  },
  {
   "cell_type": "code",
   "execution_count": 20,
   "metadata": {},
   "outputs": [],
   "source": [
    "df['substance'] = df.doses.apply(lambda doses: doses[0]['substance'])"
   ]
  },
  {
   "cell_type": "code",
   "execution_count": 21,
   "metadata": {
    "scrolled": true
   },
   "outputs": [
    {
     "data": {
      "text/plain": [
       "Salvia divinorum    1425\n",
       "Cannabis             955\n",
       "MDMA                 892\n",
       "LSD                  795\n",
       "Mushrooms            789\n",
       "                    ... \n",
       "Pentazocine            1\n",
       "Detomidine             1\n",
       "Pedicularis spp.       1\n",
       "MDMB-CHMICA            1\n",
       "bk-DMDBD               1\n",
       "Name: substance, Length: 623, dtype: int64"
      ]
     },
     "execution_count": 21,
     "metadata": {},
     "output_type": "execute_result"
    }
   ],
   "source": [
    "df.substance.value_counts()"
   ]
  },
  {
   "cell_type": "code",
   "execution_count": 22,
   "metadata": {},
   "outputs": [
    {
     "data": {
      "text/plain": [
       "623"
      ]
     },
     "execution_count": 22,
     "metadata": {},
     "output_type": "execute_result"
    }
   ],
   "source": [
    "df.substance.nunique()"
   ]
  },
  {
   "cell_type": "markdown",
   "metadata": {},
   "source": [
    "### NLP"
   ]
  },
  {
   "cell_type": "markdown",
   "metadata": {},
   "source": [
    "https://spacy.io/api/sentencizer\n",
    "    \n",
    "A simple pipeline component, to allow custom sentence boundary detection logic that doesn’t require the dependency parse. By default, sentence segmentation is performed by the DependencyParser, so the Sentencizer lets you implement a simpler, rule-based strategy that doesn’t require a statistical model to be loaded. The component is also available via the string name \"sentencizer\". After initialization, it is typically added to the processing pipeline using nlp.add_pipe."
   ]
  },
  {
   "cell_type": "code",
   "execution_count": 21,
   "metadata": {},
   "outputs": [],
   "source": [
    "nlp.add_pipe(nlp.create_pipe('sentencizer'))"
   ]
  },
  {
   "cell_type": "code",
   "execution_count": 22,
   "metadata": {},
   "outputs": [],
   "source": [
    "df['doc'] = df.text.apply(nlp)\n",
    "\n",
    "df.drop(columns='text', inplace=True)"
   ]
  },
  {
   "cell_type": "code",
   "execution_count": 23,
   "metadata": {},
   "outputs": [
    {
     "data": {
      "text/plain": [
       "0.10    10.0\n",
       "0.25    18.0\n",
       "0.50    33.0\n",
       "0.75    59.0\n",
       "0.90    95.0\n",
       "Name: sents, dtype: float64"
      ]
     },
     "execution_count": 23,
     "metadata": {},
     "output_type": "execute_result"
    }
   ],
   "source": [
    "df['sents'] = df.doc.apply(lambda doc: len(list(doc.sents)))\n",
    "\n",
    "df.sents.quantile([.1,.25,.5,.75,.9])"
   ]
  },
  {
   "cell_type": "markdown",
   "metadata": {},
   "source": [
    "Histograma de oraciones."
   ]
  },
  {
   "cell_type": "code",
   "execution_count": 236,
   "metadata": {},
   "outputs": [
    {
     "data": {
      "image/png": "[encoded data removed]",
      "text/plain": [
       "<Figure size 432x288 with 1 Axes>"
      ]
     },
     "metadata": {
      "needs_background": "light"
     },
     "output_type": "display_data"
    }
   ],
   "source": [
    "df.sents.plot.hist(bins=500)\n",
    "plt.xlim(0,100);"
   ]
  },
  {
   "cell_type": "markdown",
   "metadata": {},
   "source": [
    "Histograma de tokens."
   ]
  },
  {
   "cell_type": "code",
   "execution_count": 232,
   "metadata": {},
   "outputs": [
    {
     "data": {
      "image/png": "[encoded data removed]",
      "text/plain": [
       "<Figure size 432x288 with 1 Axes>"
      ]
     },
     "metadata": {
      "needs_background": "light"
     },
     "output_type": "display_data"
    }
   ],
   "source": [
    "df.doc.apply(len).plot.hist(bins=500)\n",
    "plt.xlim(0,2500);"
   ]
  },
  {
   "cell_type": "markdown",
   "metadata": {},
   "source": [
    "Histograma de caracteres."
   ]
  },
  {
   "cell_type": "code",
   "execution_count": 234,
   "metadata": {},
   "outputs": [
    {
     "data": {
      "image/png": "[encoded data removed]",
      "text/plain": [
       "<Figure size 432x288 with 1 Axes>"
      ]
     },
     "metadata": {
      "needs_background": "light"
     },
     "output_type": "display_data"
    }
   ],
   "source": [
    "df.doc.apply(lambda doc: len(doc.text)).plot.hist(bins=500)\n",
    "plt.xlim(0,10000);"
   ]
  },
  {
   "cell_type": "markdown",
   "metadata": {},
   "source": [
    "---\n",
    "\n",
    "Upsamplear/downsamplear a 33 oraciones (puntos en realidad). Proponemos usar un tercio de la mediana como cota inferior para la cantidad de oraciones."
   ]
  },
  {
   "cell_type": "code",
   "execution_count": 24,
   "metadata": {},
   "outputs": [],
   "source": [
    "df = df[df.sents >= 11].copy()"
   ]
  },
  {
   "cell_type": "markdown",
   "metadata": {},
   "source": [
    "### Dataset"
   ]
  },
  {
   "cell_type": "code",
   "execution_count": 25,
   "metadata": {},
   "outputs": [
    {
     "data": {
      "text/plain": [
       "571263"
      ]
     },
     "execution_count": 25,
     "metadata": {},
     "output_type": "execute_result"
    }
   ],
   "source": [
    "len(df) *33"
   ]
  },
  {
   "cell_type": "code",
   "execution_count": 26,
   "metadata": {},
   "outputs": [],
   "source": [
    "sents_df = []\n",
    "\n",
    "for doc, row in df[:10].iterrows():\n",
    "    dg = pd.DataFrame(map(str, row.doc.sents), columns=['sents'])\n",
    "    dg.index.name = 'pos'\n",
    "    dg.reset_index(inplace=True)\n",
    "    dg['doc'] = doc\n",
    "    dg['label'] = None\n",
    "    dg.set_index(['doc','pos'], inplace=True)\n",
    "    \n",
    "    sents_df.append(dg)\n",
    "\n",
    "sents_df = pd.concat(sents_df)"
   ]
  },
  {
   "cell_type": "code",
   "execution_count": 27,
   "metadata": {},
   "outputs": [],
   "source": [
    "sents_df.to_pickle('anotaciones.pkl')"
   ]
  },
  {
   "cell_type": "markdown",
   "metadata": {},
   "source": [
    "1. Escoger un documento al azar sin clasificación previa.\n",
    "2. Clasificar las oraciones del documento en negativas, neutras (ausencia de etiqueta), positivas. Se clasifican por documento para tener contexto.\n",
    "3. Se entrena un modelo y se clasifican oraciones para obtener nuevas oraciones para etiquetar."
   ]
  },
  {
   "cell_type": "code",
   "execution_count": 35,
   "metadata": {},
   "outputs": [
    {
     "data": {
      "text/plain": [
       "111386"
      ]
     },
     "execution_count": 35,
     "metadata": {},
     "output_type": "execute_result"
    }
   ],
   "source": [
    "sents_df[sents_df.label.isnull()].sample(1).index.get_level_values('doc').unique().tolist()[0]"
   ]
  },
  {
   "cell_type": "code",
   "execution_count": 96,
   "metadata": {},
   "outputs": [
    {
     "data": {
      "text/plain": [
       "doc     pos\n",
       "109479  0      None\n",
       "        1      None\n",
       "        2      None\n",
       "        3      None\n",
       "        4      None\n",
       "               ... \n",
       "111922  37     None\n",
       "        38     None\n",
       "        39     None\n",
       "        40     None\n",
       "        41     None\n",
       "Name: label, Length: 485, dtype: object"
      ]
     },
     "execution_count": 96,
     "metadata": {},
     "output_type": "execute_result"
    }
   ],
   "source": [
    "sents_df.groupby('doc').label.filter(lambda g: g.all())"
   ]
  },
  {
   "cell_type": "code",
   "execution_count": 32,
   "metadata": {},
   "outputs": [
    {
     "data": {
      "text/html": [
       "<div>\n",
       "<style scoped>\n",
       "    .dataframe tbody tr th:only-of-type {\n",
       "        vertical-align: middle;\n",
       "    }\n",
       "\n",
       "    .dataframe tbody tr th {\n",
       "        vertical-align: top;\n",
       "    }\n",
       "\n",
       "    .dataframe thead th {\n",
       "        text-align: right;\n",
       "    }\n",
       "</style>\n",
       "<table border=\"1\" class=\"dataframe\">\n",
       "  <thead>\n",
       "    <tr style=\"text-align: right;\">\n",
       "      <th></th>\n",
       "      <th>sents</th>\n",
       "      <th>label</th>\n",
       "    </tr>\n",
       "    <tr>\n",
       "      <th>pos</th>\n",
       "      <th></th>\n",
       "      <th></th>\n",
       "    </tr>\n",
       "  </thead>\n",
       "  <tbody>\n",
       "    <tr>\n",
       "      <th>0</th>\n",
       "      <td>Acacia Confusa and Its Oral Activity Goal In o...</td>\n",
       "      <td>None</td>\n",
       "    </tr>\n",
       "    <tr>\n",
       "      <th>1</th>\n",
       "      <td>Procedure Boiled 3 tbsp of shredded Acacia con...</td>\n",
       "      <td>None</td>\n",
       "    </tr>\n",
       "    <tr>\n",
       "      <th>2</th>\n",
       "      <td>Then collected the water and boiled the bark i...</td>\n",
       "      <td>None</td>\n",
       "    </tr>\n",
       "    <tr>\n",
       "      <th>3</th>\n",
       "      <td>The next extract was combined with the first a...</td>\n",
       "      <td>None</td>\n",
       "    </tr>\n",
       "    <tr>\n",
       "      <th>4</th>\n",
       "      <td>Then let cooled.</td>\n",
       "      <td>None</td>\n",
       "    </tr>\n",
       "    <tr>\n",
       "      <th>5</th>\n",
       "      <td>Bio-essay 0:00 The brew was consumed on a near...</td>\n",
       "      <td>None</td>\n",
       "    </tr>\n",
       "    <tr>\n",
       "      <th>6</th>\n",
       "      <td>Very bitter tasting, although not as bad as ay...</td>\n",
       "      <td>None</td>\n",
       "    </tr>\n",
       "    <tr>\n",
       "      <th>7</th>\n",
       "      <td>0:03 Slight body chills.</td>\n",
       "      <td>None</td>\n",
       "    </tr>\n",
       "    <tr>\n",
       "      <th>8</th>\n",
       "      <td>0:08 Lethargy/moderate physical high began to ...</td>\n",
       "      <td>None</td>\n",
       "    </tr>\n",
       "    <tr>\n",
       "      <th>9</th>\n",
       "      <td>0:14 Mind is easily transfixed on inanimate ob...</td>\n",
       "      <td>None</td>\n",
       "    </tr>\n",
       "    <tr>\n",
       "      <th>10</th>\n",
       "      <td>Mental high begins.</td>\n",
       "      <td>None</td>\n",
       "    </tr>\n",
       "    <tr>\n",
       "      <th>11</th>\n",
       "      <td>Nausea begins registering.</td>\n",
       "      <td>None</td>\n",
       "    </tr>\n",
       "    <tr>\n",
       "      <th>12</th>\n",
       "      <td>0:23 Attempt to vomit.</td>\n",
       "      <td>None</td>\n",
       "    </tr>\n",
       "    <tr>\n",
       "      <th>13</th>\n",
       "      <td>Cannot.</td>\n",
       "      <td>None</td>\n",
       "    </tr>\n",
       "    <tr>\n",
       "      <th>14</th>\n",
       "      <td>0:27 Peripheral visual hallucinations and abst...</td>\n",
       "      <td>None</td>\n",
       "    </tr>\n",
       "    <tr>\n",
       "      <th>15</th>\n",
       "      <td>0:35 Feel physically exhausted yet mentally cl...</td>\n",
       "      <td>None</td>\n",
       "    </tr>\n",
       "    <tr>\n",
       "      <th>16</th>\n",
       "      <td>0:54 High is dissipating.</td>\n",
       "      <td>None</td>\n",
       "    </tr>\n",
       "    <tr>\n",
       "      <th>17</th>\n",
       "      <td>Coming down.</td>\n",
       "      <td>None</td>\n",
       "    </tr>\n",
       "    <tr>\n",
       "      <th>18</th>\n",
       "      <td>1:15 Completely sober.</td>\n",
       "      <td>None</td>\n",
       "    </tr>\n",
       "    <tr>\n",
       "      <th>19</th>\n",
       "      <td>Begin typing report.</td>\n",
       "      <td>None</td>\n",
       "    </tr>\n",
       "    <tr>\n",
       "      <th>20</th>\n",
       "      <td>Conclusion The root bark of Acacia confusa was...</td>\n",
       "      <td>None</td>\n",
       "    </tr>\n",
       "    <tr>\n",
       "      <th>21</th>\n",
       "      <td>Overall its induced effects were similar to a ...</td>\n",
       "      <td>None</td>\n",
       "    </tr>\n",
       "    <tr>\n",
       "      <th>22</th>\n",
       "      <td>However, it was not (when taken by itself) a p...</td>\n",
       "      <td>None</td>\n",
       "    </tr>\n",
       "  </tbody>\n",
       "</table>\n",
       "</div>"
      ],
      "text/plain": [
       "                                                 sents label\n",
       "pos                                                         \n",
       "0    Acacia Confusa and Its Oral Activity Goal In o...  None\n",
       "1    Procedure Boiled 3 tbsp of shredded Acacia con...  None\n",
       "2    Then collected the water and boiled the bark i...  None\n",
       "3    The next extract was combined with the first a...  None\n",
       "4                                     Then let cooled.  None\n",
       "5    Bio-essay 0:00 The brew was consumed on a near...  None\n",
       "6    Very bitter tasting, although not as bad as ay...  None\n",
       "7                             0:03 Slight body chills.  None\n",
       "8    0:08 Lethargy/moderate physical high began to ...  None\n",
       "9    0:14 Mind is easily transfixed on inanimate ob...  None\n",
       "10                                 Mental high begins.  None\n",
       "11                          Nausea begins registering.  None\n",
       "12                              0:23 Attempt to vomit.  None\n",
       "13                                             Cannot.  None\n",
       "14   0:27 Peripheral visual hallucinations and abst...  None\n",
       "15   0:35 Feel physically exhausted yet mentally cl...  None\n",
       "16                           0:54 High is dissipating.  None\n",
       "17                                        Coming down.  None\n",
       "18                              1:15 Completely sober.  None\n",
       "19                                Begin typing report.  None\n",
       "20   Conclusion The root bark of Acacia confusa was...  None\n",
       "21   Overall its induced effects were similar to a ...  None\n",
       "22   However, it was not (when taken by itself) a p...  None"
      ]
     },
     "execution_count": 32,
     "metadata": {},
     "output_type": "execute_result"
    }
   ],
   "source": [
    "doc = 103149\n",
    "\n",
    "sents_df.loc[doc]"
   ]
  },
  {
   "cell_type": "code",
   "execution_count": 28,
   "metadata": {},
   "outputs": [],
   "source": [
    "doc = 103149"
   ]
  },
  {
   "cell_type": "code",
   "execution_count": 79,
   "metadata": {},
   "outputs": [
    {
     "name": "stdout",
     "output_type": "stream",
     "text": [
      "Last night I had the opportunity to try my ayahuasca brew.\n",
      "\n"
     ]
    },
    {
     "name": "stdin",
     "output_type": "stream",
     "text": [
      " s\n"
     ]
    },
    {
     "name": "stdout",
     "output_type": "stream",
     "text": [
      "s\n"
     ]
    },
    {
     "ename": "RuntimeError",
     "evalue": "No active exception to reraise",
     "output_type": "error",
     "traceback": [
      "\u001b[0;31m---------------------------------------------------------------------------\u001b[0m",
      "\u001b[0;31mRuntimeError\u001b[0m                              Traceback (most recent call last)",
      "\u001b[0;32m<ipython-input-79-da7e125113cf>\u001b[0m in \u001b[0;36m<module>\u001b[0;34m\u001b[0m\n\u001b[1;32m      6\u001b[0m     \u001b[0mi\u001b[0m \u001b[0;34m=\u001b[0m \u001b[0minput\u001b[0m\u001b[0;34m(\u001b[0m\u001b[0;34m)\u001b[0m\u001b[0;34m\u001b[0m\u001b[0;34m\u001b[0m\u001b[0m\n\u001b[1;32m      7\u001b[0m     \u001b[0mprint\u001b[0m\u001b[0;34m(\u001b[0m\u001b[0mi\u001b[0m\u001b[0;34m)\u001b[0m\u001b[0;34m\u001b[0m\u001b[0;34m\u001b[0m\u001b[0m\n\u001b[0;32m----> 8\u001b[0;31m     \u001b[0;32mraise\u001b[0m\u001b[0;34m\u001b[0m\u001b[0;34m\u001b[0m\u001b[0m\n\u001b[0m",
      "\u001b[0;31mRuntimeError\u001b[0m: No active exception to reraise"
     ]
    }
   ],
   "source": [
    "for pos, row in sents_df.loc[doc].iterrows():\n",
    "    print(row.sents)\n",
    "    print()\n",
    "    i = input()\n",
    "    print(i)\n",
    "    raise"
   ]
  },
  {
   "cell_type": "markdown",
   "metadata": {},
   "source": [
    "### Análisis de sentimiento"
   ]
  },
  {
   "cell_type": "code",
   "execution_count": 243,
   "metadata": {},
   "outputs": [],
   "source": [
    "from spacy.tokens import Doc, Span, Token"
   ]
  },
  {
   "cell_type": "code",
   "execution_count": null,
   "metadata": {},
   "outputs": [],
   "source": [
    "Token.set_extension('happiness', method=lambda token: felicidad_centrada.get(token.lower_, np.nan))\n",
    "\n",
    "Span.set_extension('happiness', method=lambda span: np.nanmean([token._.happiness() for token in span]))\n",
    "\n",
    "Doc.set_extension('sents_happiness', method=lambda doc: np.array([sent._.happiness() for sent in doc.sents]))\n",
    "\n",
    "Doc.set_extension('happiness', method=lambda doc: np.nanmean(doc._.sents_happiness()))"
   ]
  },
  {
   "cell_type": "code",
   "execution_count": 274,
   "metadata": {},
   "outputs": [
    {
     "name": "stderr",
     "output_type": "stream",
     "text": [
      "/home/matias/.pyenv/versions/3.7.3/lib/python3.7/site-packages/ipykernel_launcher.py:1: RuntimeWarning: Mean of empty slice\n",
      "  \"\"\"Entry point for launching an IPython kernel.\n"
     ]
    }
   ],
   "source": [
    "df['felicidad'] = df.doc.apply(lambda doc: doc._.happiness())"
   ]
  },
  {
   "cell_type": "code",
   "execution_count": 282,
   "metadata": {},
   "outputs": [
    {
     "data": {
      "image/png": "[encoded data removed]",
      "text/plain": [
       "<Figure size 432x288 with 1 Axes>"
      ]
     },
     "metadata": {
      "needs_background": "light"
     },
     "output_type": "display_data"
    }
   ],
   "source": [
    "df.felicidad.plot.hist(bins=100);"
   ]
  },
  {
   "cell_type": "code",
   "execution_count": 296,
   "metadata": {},
   "outputs": [
    {
     "data": {
      "image/png": "[encoded data removed]",
      "text/plain": [
       "<Figure size 1080x4320 with 1 Axes>"
      ]
     },
     "metadata": {
      "needs_background": "light"
     },
     "output_type": "display_data"
    }
   ],
   "source": [
    "fig, ax = plt.subplots(figsize=(15,60))\n",
    "\n",
    "data = df.groupby('substance').filter(lambda g: len(g) >= 15).sort_values('felicidad')\n",
    "\n",
    "sn.barplot(ax=ax, data=data, y='substance', x='felicidad');"
   ]
  },
  {
   "cell_type": "markdown",
   "metadata": {},
   "source": [
    "### Categorías"
   ]
  },
  {
   "cell_type": "code",
   "execution_count": 23,
   "metadata": {},
   "outputs": [],
   "source": [
    "categorías = {\n",
    "    1 : 'Psychedelic (other)',\n",
    "    2 : 'Psychedelic (serotonergic)',\n",
    "    3 : 'Psychedelic (entactogen)',\n",
    "    4 : 'Psychedelic (dissociative)',\n",
    "    5 : 'Depressant/sedative',\n",
    "    6 : 'Stimulant',\n",
    "    7 : 'Delirant',\n",
    "    8 : 'MAOI',\n",
    "    9 : 'Antipsychotic/antidepressant',\n",
    "    10: 'Oneirogen',\n",
    "}\n",
    "\n",
    "clasificación = pd.read_csv('enzo/clasificación_drogas.csv', header=None, names=['substance', 'principal', 'secondary'])\n",
    "\n",
    "clasificación.principal = clasificación.principal.apply(lambda x: categorías[x])\n",
    "clasificación.secondary = clasificación.secondary.apply(lambda x: categorías[x])\n",
    "\n",
    "clasificación.substance = clasificación.substance.str.strip()"
   ]
  },
  {
   "cell_type": "code",
   "execution_count": 24,
   "metadata": {},
   "outputs": [
    {
     "data": {
      "text/html": [
       "<div>\n",
       "<style scoped>\n",
       "    .dataframe tbody tr th:only-of-type {\n",
       "        vertical-align: middle;\n",
       "    }\n",
       "\n",
       "    .dataframe tbody tr th {\n",
       "        vertical-align: top;\n",
       "    }\n",
       "\n",
       "    .dataframe thead th {\n",
       "        text-align: right;\n",
       "    }\n",
       "</style>\n",
       "<table border=\"1\" class=\"dataframe\">\n",
       "  <thead>\n",
       "    <tr style=\"text-align: right;\">\n",
       "      <th></th>\n",
       "      <th>substance</th>\n",
       "      <th>principal</th>\n",
       "      <th>secondary</th>\n",
       "    </tr>\n",
       "  </thead>\n",
       "  <tbody>\n",
       "    <tr>\n",
       "      <th>0</th>\n",
       "      <td>Cannabis</td>\n",
       "      <td>Depressant/sedative</td>\n",
       "      <td>Psychedelic (other)</td>\n",
       "    </tr>\n",
       "    <tr>\n",
       "      <th>1</th>\n",
       "      <td>Salvia divinorum</td>\n",
       "      <td>Psychedelic (other)</td>\n",
       "      <td>Psychedelic (other)</td>\n",
       "    </tr>\n",
       "    <tr>\n",
       "      <th>2</th>\n",
       "      <td>MDMA</td>\n",
       "      <td>Psychedelic (entactogen)</td>\n",
       "      <td>Stimulant</td>\n",
       "    </tr>\n",
       "    <tr>\n",
       "      <th>3</th>\n",
       "      <td>LSD</td>\n",
       "      <td>Psychedelic (serotonergic)</td>\n",
       "      <td>Psychedelic (serotonergic)</td>\n",
       "    </tr>\n",
       "    <tr>\n",
       "      <th>4</th>\n",
       "      <td>DXM</td>\n",
       "      <td>Psychedelic (dissociative)</td>\n",
       "      <td>Delirant</td>\n",
       "    </tr>\n",
       "  </tbody>\n",
       "</table>\n",
       "</div>"
      ],
      "text/plain": [
       "          substance                   principal                   secondary\n",
       "0          Cannabis         Depressant/sedative         Psychedelic (other)\n",
       "1  Salvia divinorum         Psychedelic (other)         Psychedelic (other)\n",
       "2              MDMA    Psychedelic (entactogen)                   Stimulant\n",
       "3               LSD  Psychedelic (serotonergic)  Psychedelic (serotonergic)\n",
       "4               DXM  Psychedelic (dissociative)                    Delirant"
      ]
     },
     "execution_count": 24,
     "metadata": {},
     "output_type": "execute_result"
    }
   ],
   "source": [
    "clasificación.head()"
   ]
  },
  {
   "cell_type": "code",
   "execution_count": 25,
   "metadata": {},
   "outputs": [],
   "source": [
    "df = pd.merge(df, clasificación, on='substance', how='left')"
   ]
  },
  {
   "cell_type": "markdown",
   "metadata": {},
   "source": [
    "Substancias que no pudieron ser clasificadas."
   ]
  },
  {
   "cell_type": "code",
   "execution_count": 328,
   "metadata": {},
   "outputs": [
    {
     "data": {
      "text/plain": [
       "True     10195\n",
       "False     7114\n",
       "Name: principal, dtype: int64"
      ]
     },
     "execution_count": 328,
     "metadata": {},
     "output_type": "execute_result"
    }
   ],
   "source": [
    "df.principal.notnull().value_counts()"
   ]
  },
  {
   "cell_type": "code",
   "execution_count": 325,
   "metadata": {
    "scrolled": true
   },
   "outputs": [
    {
     "data": {
      "text/plain": [
       "Mushrooms                                      745\n",
       "Morning Glory                                  329\n",
       "Methamphetamine                                309\n",
       "Kratom                                         267\n",
       "Mushrooms - P. cubensis                        260\n",
       "Amphetamines                                   237\n",
       "H.B. Woodrose                                  223\n",
       "Heroin                                         155\n",
       "Inhalants                                      146\n",
       "Nitrous Oxide                                  137\n",
       "Pharms - Tramadol                              137\n",
       "Pharms - Zolpidem                              136\n",
       "Amanitas - A. muscaria                         127\n",
       "Cacti - T. pachanoi                            109\n",
       "Pharms - Oxycodone                              92\n",
       "Absinthe                                        90\n",
       "Products - Spice and Synthetic Cannabinoids     88\n",
       "Pharms - Methylphenidate                        70\n",
       "Alcohol - Hard                                  65\n",
       "Poppies - Opium                                 64\n",
       "Pharms - Gabapentin                             63\n",
       "4-Methylmethcathinone                           62\n",
       "Pharms - Alprazolam                             59\n",
       "Pharms - Clonazepam                             55\n",
       "Pharms - Fentanyl                               55\n",
       "Pharms - Paroxetine                             54\n",
       "Pharms - Venlafaxine                            54\n",
       "25C-NBOMe                                       51\n",
       "Pharms - Buprenorphine                          49\n",
       "Cannabis - Hash                                 48\n",
       "                                              ... \n",
       "Huasca Brew                                      1\n",
       "UR-144                                           1\n",
       "Sassafras                                        1\n",
       "Vervain                                          1\n",
       "Piperazines - pFPP                               1\n",
       "Methylmethaqualone                               1\n",
       "Erythroxylum novogranatense                      1\n",
       "4-HO-DPT                                         1\n",
       "MAOIs                                            1\n",
       "Ilex vomitoria                                   1\n",
       "Halothane                                        1\n",
       "Flubromazolam                                    1\n",
       "Pramiracetam                                     1\n",
       "Mushrooms - C. cyanescens                        1\n",
       "Sakae Naa                                        1\n",
       "Yarrow                                           1\n",
       "TCB-2                                            1\n",
       "Desfontainia spp.                                1\n",
       "Pharms - Chlorpromazine                          1\n",
       "ALEPH                                            1\n",
       "Pharms - Ethchlorvynol                           1\n",
       "Phenethylamine                                   1\n",
       "Entada rheedii                                   1\n",
       "Testosterone                                     1\n",
       "Detomidine                                       1\n",
       "Pentazocine                                      1\n",
       "Gamma-Crotonolactone                             1\n",
       "Acetildenafil                                    1\n",
       "7-Hydroxy-Mytragynine                            1\n",
       "25G-NBOMe                                        1\n",
       "Name: substance, Length: 494, dtype: int64"
      ]
     },
     "execution_count": 325,
     "metadata": {},
     "output_type": "execute_result"
    }
   ],
   "source": [
    "df[df.principal.isnull()].substance.value_counts()"
   ]
  },
  {
   "cell_type": "code",
   "execution_count": 331,
   "metadata": {},
   "outputs": [
    {
     "data": {
      "text/plain": [
       "Psychedelic (serotonergic)    3203\n",
       "Depressant/sedative           1992\n",
       "Psychedelic (other)           1492\n",
       "Psychedelic (entactogen)      1100\n",
       "Stimulant                      890\n",
       "Psychedelic (dissociative)     762\n",
       "Delirant                       697\n",
       "Oneirogen                       58\n",
       "MAOI                             1\n",
       "Name: principal, dtype: int64"
      ]
     },
     "execution_count": 331,
     "metadata": {},
     "output_type": "execute_result"
    }
   ],
   "source": [
    "df.principal.value_counts()"
   ]
  },
  {
   "cell_type": "code",
   "execution_count": 332,
   "metadata": {},
   "outputs": [
    {
     "data": {
      "image/png": "[encoded data removed]",
      "text/plain": [
       "<Figure size 1080x504 with 1 Axes>"
      ]
     },
     "metadata": {
      "needs_background": "light"
     },
     "output_type": "display_data"
    }
   ],
   "source": [
    "fig, ax = plt.subplots(figsize=(15,7))\n",
    "sn.violinplot(x='felicidad', y='principal', data=df);"
   ]
  },
  {
   "cell_type": "markdown",
   "metadata": {},
   "source": [
    "---\n",
    "\n",
    "**TODO**: upsampling / downsampling"
   ]
  },
  {
   "cell_type": "code",
   "execution_count": 345,
   "metadata": {},
   "outputs": [
    {
     "name": "stdout",
     "output_type": "stream",
     "text": [
      "tags ['2C-E', 'Small Group', 'Retrospective / Summary', 'Multi-Day Experience', 'Hangover / Days After', 'Health Benefits'] \n",
      "\n",
      "happiness 0.09301997080795212 \n",
      "\n",
      " 0  My girlfriend, J, and I acquired 6 grams of 2C-E HCl powder from an online vendor, and had 4 amazingly powerful 2C-E trips over the course of approximately one month, starting at the beginning of December 2007, and going until the first week of January 2008.\n",
      " 1  The effects of 2C-E we got went far beyond the 9-12 hours we actually tripped out.\n",
      " 2  Both J and I had a distinct and very powerful afterglow from 2C-E that lasted several months.\n",
      " 3  We both decided, as a direct result of our 2C-E use, that we no longer wished to consume alcohol as an intoxicant, and now 4.5 months later we are both adhering to our decisions very well.\n",
      " 4  What I believe 2C-E did to us was help us to become aware of the cultural conditioning we have all been subject to for our whole lives to drink alcohol.\n",
      " 5  At some point along our little 2C-E odyssey, the fact that alcohol made us feel dumb, stupid, caused a lot of strife throughout all of society, and is in fact a quite physically harmful thing to ingest just felt like it was being made so well known to us, and we just kind of went “Why the fuck DO we drink?”\n",
      " 6  There is yet another remarkable effect 2C-E had upon me which I think is even more remarkable than the alcohol consumption cessation.\n",
      " 7  I was a smoker prior to this 2C-E experiment, for 6 years.\n",
      " 8  I am 21 now, and began when I was 15.\n",
      " 9  I had been trying to quit on an off with all miserably failed attempts for about 2 years prior to this experience; I simply did not like being a smoker, but I felt quite seriously addicted to nicotine, and would engage in such activities as smoking cigarette butts at work sometimes, and rolling up scummies out of ash trays from time to time.\n",
      "10  It had truly become a filthy (not to mention expensive) habit, but quitting didn’t quite seem like an option to me, for I was working a shitty kitchen job and living somewhere with lots of young people where drinking and smoking was the norm.\n",
      "11  I can’t recall exactly the chronology of my quitting and 2C-E use, but it was something like this.\n",
      "12  I remember smoking on my first 2C-E trip, and still feeling like I “enjoyed” my cigarette, but I was thinking an awful lot about the sheer stupidity of it.\n",
      "13  I also engaged in this type of thinking when sober, but it was different somehow on 2C-E. The 2nd and 3rd time I tripped on 2C-E, I think I may have had 1 cigarette, and it had it sheerly out of a dependence on nicotine.\n",
      "14  However, these times the cigarettes dry acrid smoke was especially potent with my heightened senses, and I had taken larger doses of 2C-E, and my mind was working much faster and was “way further outside the box” so to speak.\n",
      "15  I’m having difficulty describing how I felt 2C-E was important in helping me stop my addiction to nicotine.\n",
      "16  But I feel like our change in attitude towards alcohol, and my addiction interruption occurred because of similar mental processes.\n",
      "17  It didn’t feel like 2C-E helped any physical symptoms of withdrawal at all.\n",
      "18  Everything that helped me to quit was like positive mental reinforcement I gained from the time I spent on 2C-E. The reinforcement manifested in several ways during the trip, such as realizing the emotional impact of needing a cigarette in order to feel satisfied, crazy psychedelic imaginings and mental imagery of the damage I was doing to myself when I smoked, although this was not unpleasant, it was just like a logical “well if you’re going to put formaldehyde and tar in there then this is what you might look like in 40 years!”.\n",
      "19  It was much more powerful and profound then I can possibly convey here, as is the norm for strong psychedelic experiences being written up in trip reports.\n",
      "20  The fourth trip I remember not smoking a single cigarette, and all my cravings felt very manageable mentally.\n",
      "21  It felt as through 2C-E helped me find the strength within myself to remind myself why I do not want to be a smoker any longer, EVERY time I felt a craving arise.\n",
      "22  It was like I thought about my addiction on 2C-E so intensely, that I could never again pretend to ignore the fact that it REALLY BOTHERS ME to be a smoker.\n",
      "23  I used the nicotine patch for a short time immediately after quitting smoking, but I didn’t use it for anywhere near as long as the directed amount of time (10 weeks).\n",
      "24  And after I stopped using the patch, no symptoms returned, and still 4.5 months later, no relapse.\n",
      "25  As a side note, J was never a smoker, and did not like me being a smoker.\n",
      "26  So although I say 2C-E helped me quit smoking, I also wanted to quit prior to using 2C-E. But I felt as thought 2C-E helped me quit in a very unsuspecting way.\n",
      "27  I never had quitting smoking as a serious issue I wanted to tackle with my use of powerful psychedelics, but it was just a nice little bonus this teacher gave me.\n",
      "28  Some other effects me and J both noted as a part of our months-long after glow was an increased ability to cope with stress, better communication with each other, it was easier to think positively more often, and we both had a very profound new capacity to think about spiritual matters in a very receptive and deep way, which we both think we were unable to really “accept”, such as the continuation of our essences or souls or minds or whatever you wish to call it after bodily death occurs.\n",
      "29  During our 2C-E trips, it honestly felt like so much knowledge that has been accumulated in the ancient religions became accessible to us through whatever means, and the results of that exposure was our afterglow.\n",
      "30  The experience still resonates with us today, but not nearly as much as the 4 weeks following our trips.\n",
      "31  It was truly remarkable to have a ++++ experience, and we both feel very lucky to have procured such a (relatively) large amount of this extremely extraordinary compound.\n",
      "32  As to the individual subjective effects I got from 2C-E on my trips, I was also very impressed.\n",
      "33  It definitely felt “classically psychedelic”, whatever that means.\n",
      "34  Take the tried and true psychedelics – LSD, mushrooms, peyote, DOM – well I would classify 2C-E’s effects are comparable to, but different than these.\n",
      "35  I have only ever tried LSD and mushrooms of these examples, but 2C-E definitely is a super valuable tool.\n",
      "36  My trip was remarkably clear headed, no thought looping or racing thoughts.\n",
      "37  My thoughts were extremely voluminous and fast moving, but it felt organized.\n",
      "38  It is like LSD and mushrooms are using a really really awesome computer that only has DOS, and 2C-E is like upgrading to windows.\n",
      "39  It’s still all there, and you can do all the same things, but 2C-E felt more user friendly in my experience.\n",
      "40  Mushrooms have always been “explosive” for me.\n",
      "41  2C-E felt cosmic, extremely vast, extremely structured and organized, artificial (not necessarily a bad quality, but it definitely didn’t feel natural in my body!),\n",
      "42  and defiantly has a “wise teacher” feel to it.\n",
      "43  And yes, it was impressively visual.\n",
      "44  I was more impressed with the non-aesthetic effects of 2C-E, but even still the visuals are nothing that can be dismissed.\n",
      "45  I had very thick lasting trails, it didn’t seems all “multiples frames”, if I moved my arm trough the air it would seem as though my hand were leaving solid impressions of itself behind.\n",
      "46  Color enhancement was very noticeable, and something we both noticed was a “new psychedelic color”, that seemed to be like every shade of neon and black flickering at 10000000 times a second.\n",
      "47  This color would appear to overlay objects we looked at, and would make up the unique, not-LSD fractal-like geometric designs.\n",
      "48  I also watched J’s hair turn the most insanely crazily color of neon purple for a split second, so much so that it seemed to light up objects around her.\n",
      "49  It wasn’t even like it was a visual, her hair actually seemed to change to that color and quickly fade back.\n",
      "50  I was quite amused by this effect.\n",
      "51  At some points when our conversation with turn to “darker things” we would notice the visual become correspondingly dark, and when the subject matter returned to more positive matters, the visuals would “color up” again and become happy.\n",
      "52  It was very interesting.\n",
      "53  I think one of the most intriguing visuals we both noticed was that we were both convinced we could detect auras.\n",
      "54  I don’t know how to describe it other than it feels like I am beginning to approach the spiritual world.\n",
      "55  Everything about all of our trips just oozed intense spiritualness.\n",
      "56  We listened to a lot of Shpongle and Sons of Aurora, King Crimson, Tool, and Ween and anything else that ticked our fancy.\n",
      "57  The music did sound absolutely amazing.\n",
      "58  It had that “psychedelic depth” to it, and it wasn’t only crazy tripped out techno that made us feel good.\n",
      "59  Ween and other good old guitar rockin’ out music felt so heartfelt and still produced mushroom style music euphoria.\n",
      "60  But no unique effects were noted from listening to music otherwise.\n",
      "61  The best thing about 2C-E if you ask me, is that all the changes it brings about, it feels as if they come from the heart.\n",
      "62  It was a very natural feeling state, despite the synthetic nature of the drug.\n",
      "63  It is paradoxical, but then again, isn’t everything??\n",
      "64  Thanks for reading my trip report, I hope you have gained something from it.\n"
     ]
    },
    {
     "data": {
      "image/png": "[encoded data removed]",
      "text/plain": [
       "<Figure size 432x288 with 1 Axes>"
      ]
     },
     "metadata": {
      "needs_background": "light"
     },
     "output_type": "display_data"
    }
   ],
   "source": [
    "n=2009\n",
    "\n",
    "doc = df.iloc[n].doc\n",
    "\n",
    "print('tags', df.iloc[n].tags, '\\n')\n",
    "print('happiness', doc._.happiness(), '\\n')\n",
    "\n",
    "sn.lineplot(data=doc._.sents_happiness())\n",
    "plt.ylabel('felicidad')\n",
    "plt.xlabel('#oración')\n",
    "\n",
    "for i, oración in enumerate(doc.sents):\n",
    "    print('%2d ' % i, oración)"
   ]
  },
  {
   "cell_type": "markdown",
   "metadata": {},
   "source": [
    "https://github.com/Separius/awesome-sentence-embedding\n",
    "\n",
    "**Enfoque A**\n",
    "\n",
    "word embeddings (provenientes de word2vec o GloVe) -> contextualized word embeddings (mediante una función tipo encoder) -> sentence embeddings (mediante una función de pooling)\n",
    "\n",
    "**Enfoque B**\n",
    "\n",
    "Otra estrategia es usar un encoder de embeddings de oraciones (similar a word2vec pero para oraciones, como doc2vec).\n",
    "\n",
    "Este me gustó especialmente:\n",
    "[No Training Required: Exploring Random Encoders for Sentence Classification](https://arxiv.org/abs/1901.10444)\n",
    "\n",
    "----\n",
    "\n",
    "Attention is all you need (estado del arte)\n",
    "\n",
    "https://arxiv.org/pdf/1706.03762.pdf\n",
    "\n",
    "Para entenderlo hay que leer algunas otras cosas antes. Esto puede ayudar:\n",
    "https://docs.google.com/presentation/d/1CbSZdpIWn_GEv3xblm7MjMK6CAny79t0ntNWhLeg9Sk/edit?usp=sharing"
   ]
  },
  {
   "cell_type": "markdown",
   "metadata": {},
   "source": [
    "1) Agregar al valor medio desvio estandar (STD) / sqrt(N) (N=can’t muestras; error estándar)\n",
    "\n",
    "2) Repetir el análisis de promediar sentiment analysis por categoría de droga pero shuffleando al azar los términos (o bien el score del sentiment analysis).\n",
    "\n",
    "3) Definir un cuadrado alrededor del máximo global y del mínimo global y sacar las palabras y su frecuencia para cada droga para definir un word cloud\n",
    "\n",
    "\n",
    "Estructura tentativa\n",
    "\n",
    "\n",
    "Capitulo 1 -> descripción del corpus\n",
    "\n",
    "Capitulo 2 -> Evolution en el tiempo emotividad\n",
    "\n",
    "Capitulo 3 -> Evolution del contenido semantico\n",
    "\n",
    "Captiylo 4 -> Coherencia en el tiempo de la narrativa\n",
    "\n",
    "\n",
    "Introduction: Background y objetivos de la tesis / motivation \n",
    "\n",
    "1. Capitulo 1: describir metodología de sentiment analysis que usaste , dar ejemplos de la literatura (paper de arcos narrativos)\n",
    "\n",
    "\n",
    "2. Capitulo 2: Describir el corpus y los gráficos estadística de sentiment analysis “estática“\n",
    "\n",
    "\n",
    "3. Capitulo 3: Poner los resultados de SVD y de clustering x categoría, word clouds, resultados con el modelo nulo, etc.\n",
    "\n",
    "\n",
    "4. Capitulo 4: Idem capitulo 3 pero en vez del sentiment analysis usar word2vec respecto de palabras  asociadas a disitntos conceptos (sugerencia: sacar las 5 palabras  de mayor peso en las 5 componentes principales de Zamberlan et al., 2018 Frontiers in Integrative Neuroscience - eliminando las palabras que se repiten).\n",
    "\n",
    "\n",
    "5. Capitulo 5: Para cada oración obtener el embedding promedio, hacer el cosine distance de cada oración con la siguiente y calcular la varianza. Rankear por droga y por categoría. ‘\n",
    "\n",
    "\n",
    "6. Conclusiones"
   ]
  },
  {
   "cell_type": "markdown",
   "metadata": {},
   "source": [
    "12/06/19\n",
    "\n",
    "Wordclouds para puntos máximos y mínimos de los promedios de las evoluciones por categoría. Tomar las N palabras de mayor/menos emotividad y pesarlas por frecuencia."
   ]
  },
  {
   "cell_type": "code",
   "execution_count": 158,
   "metadata": {},
   "outputs": [],
   "source": [
    "doc = df[df.substancia == 'Cannabis'].iloc[100].doc\n",
    "doc2 = df[df.substancia == 'Cannabis'].iloc[101].doc"
   ]
  },
  {
   "cell_type": "code",
   "execution_count": 159,
   "metadata": {},
   "outputs": [
    {
     "name": "stderr",
     "output_type": "stream",
     "text": [
      "/home/matias/.pyenv/versions/3.7.1/lib/python3.7/runpy.py:193: ModelsWarning: [W007] The model you're using has no word vectors loaded, so the result of the Doc.similarity method will be based on the tagger, parser and NER, which may not give useful similarity judgements. This may happen if you're using one of the small models, e.g. `en_core_web_sm`, which don't ship with word vectors and only use context-sensitive tensors. You can always add your own word vectors, or use one of the larger models instead if available.\n",
      "  \"__main__\", mod_spec)\n",
      "/home/matias/.pyenv/versions/3.7.1/lib/python3.7/runpy.py:193: UserWarning: [W008] Evaluating Doc.similarity based on empty vectors.\n",
      "  \"__main__\", mod_spec)\n"
     ]
    },
    {
     "data": {
      "text/plain": [
       "0.0"
      ]
     },
     "execution_count": 159,
     "metadata": {},
     "output_type": "execute_result"
    }
   ],
   "source": [
    "doc.similarity(doc2)"
   ]
  },
  {
   "cell_type": "code",
   "execution_count": 161,
   "metadata": {},
   "outputs": [],
   "source": [
    "import spacy.attrs"
   ]
  },
  {
   "cell_type": "code",
   "execution_count": 172,
   "metadata": {
    "scrolled": true
   },
   "outputs": [
    {
     "data": {
      "text/plain": [
       "{18425606103329785088: 1,\n",
       " 602335199165703938: 1,\n",
       " 475376273668575235: 2,\n",
       " 13398675276606405380: 1,\n",
       " 893864945629309956: 1,\n",
       " 5224941539530611462: 1,\n",
       " 13406363291041437197: 1,\n",
       " 14692702688101715474: 1,\n",
       " 16428057658620181782: 1,\n",
       " 2754665471364627735: 1,\n",
       " 15970778350426902295: 1,\n",
       " 3112634459891409180: 1,\n",
       " 6605652555683495965: 1,\n",
       " 5097672513440128799: 10,\n",
       " 17471638809377599778: 1,\n",
       " 10239237003504588839: 1,\n",
       " 8004577259940138793: 2,\n",
       " 11901859001352538922: 5,\n",
       " 7148522813498185515: 2,\n",
       " 12183215790900673582: 1,\n",
       " 12517269084653561647: 1,\n",
       " 6920515201346452032: 1,\n",
       " 3411606890003347522: 2,\n",
       " 4762715192993023313: 1,\n",
       " 3842273743162990164: 1,\n",
       " 17454115351911680600: 1,\n",
       " 5021286777699800409: 1,\n",
       " 9921686513378912864: 1,\n",
       " 2083007792472084576: 2,\n",
       " 11711838292424000352: 1,\n",
       " 9720044723474553187: 1,\n",
       " 10311825281023271522: 1,\n",
       " 2739543297294151269: 2,\n",
       " 3002984154512732771: 2,\n",
       " 7000492816108906599: 1,\n",
       " 9614445426764226664: 1,\n",
       " 12510949447758279278: 1,\n",
       " 9222952809800978799: 1,\n",
       " 1618900948208871284: 2,\n",
       " 9970931496028849525: 1,\n",
       " 8799542030263951485: 1,\n",
       " 17545852598994811774: 1,\n",
       " 16037325823156266367: 4,\n",
       " 18197037023634208128: 1,\n",
       " 12960022596163002503: 1,\n",
       " 5204146470106475914: 1,\n",
       " 15180167692696242062: 1,\n",
       " 3791531372978436496: 1,\n",
       " 3449386869681536401: 1,\n",
       " 7425985699627899538: 3,\n",
       " 14442145814224225683: 1,\n",
       " 3197928453018144401: 2,\n",
       " 2584911221516776338: 1,\n",
       " 3842344029291005339: 2,\n",
       " 8885804376230376864: 1,\n",
       " 4500079622559289248: 1,\n",
       " 12646065887601541794: 5,\n",
       " 2985827712170516640: 1,\n",
       " 6231102377460051108: 1,\n",
       " 11320251846592927908: 2,\n",
       " 10130629920159162787: 1,\n",
       " 1040792521986643111: 1,\n",
       " 5139843949111476903: 1,\n",
       " 7831658034963690409: 1,\n",
       " 9837207709914848172: 1,\n",
       " 3364102802856850095: 1,\n",
       " 227504873216781231: 2,\n",
       " 2989924464908128948: 2,\n",
       " 9153284864653046197: 1,\n",
       " 12638816674900267446: 2,\n",
       " 2593208677638477497: 3,\n",
       " 3740602843040177340: 2,\n",
       " 886050111519832510: 3,\n",
       " 9492612516460955585: 1,\n",
       " 15807309897752499399: 1,\n",
       " 2763375565884380114: 1,\n",
       " 2767521681098075859: 1,\n",
       " 17421525396316138196: 1,\n",
       " 2283656566040971221: 6,\n",
       " 11104729984170784471: 1,\n",
       " 10038440415813069799: 1,\n",
       " 15565809007171101420: 1,\n",
       " 14761956251062267885: 1,\n",
       " 1608482186128794349: 1,\n",
       " 15226876150295704304: 1,\n",
       " 13771760024209633521: 1,\n",
       " 10382539506755952630: 1,\n",
       " 15994409289946134265: 1,\n",
       " 5943797630011647483: 2}"
      ]
     },
     "execution_count": 172,
     "metadata": {},
     "output_type": "execute_result"
    }
   ],
   "source": [
    "doc.count_by(spacy.attrs.LOWER)"
   ]
  },
  {
   "cell_type": "code",
   "execution_count": 173,
   "metadata": {},
   "outputs": [
    {
     "data": {
      "text/plain": [
       "'job'"
      ]
     },
     "execution_count": 173,
     "metadata": {},
     "output_type": "execute_result"
    }
   ],
   "source": [
    "doc.vocab.strings[18425606103329785088]"
   ]
  },
  {
   "cell_type": "code",
   "execution_count": 175,
   "metadata": {},
   "outputs": [],
   "source": [
    "from wordcloud import WordCloud"
   ]
  },
  {
   "cell_type": "code",
   "execution_count": 179,
   "metadata": {},
   "outputs": [
    {
     "data": {
      "image/png": "[encoded data removed]",
      "text/plain": [
       "<Figure size 432x288 with 1 Axes>"
      ]
     },
     "metadata": {
      "needs_background": "light"
     },
     "output_type": "display_data"
    }
   ],
   "source": [
    "import matplotlib.pyplot as plt\n",
    "#plt.imshow(wordcloud, interpolation='bilinear')\n",
    "#plt.axis(\"off\")\n",
    "\n",
    "# lower max_font_size\n",
    "wordcloud = WordCloud(max_font_size=40).generate(\"ola buenas buenas buenas buenas buenas buenas buenas tardes\")\n",
    "plt.figure()\n",
    "plt.imshow(wordcloud, interpolation=\"bilinear\")\n",
    "plt.axis(\"off\")\n",
    "plt.show()"
   ]
  },
  {
   "cell_type": "code",
   "execution_count": null,
   "metadata": {},
   "outputs": [],
   "source": []
  }
 ],
 "metadata": {
  "kernelspec": {
   "display_name": "Python 3 (ipykernel)",
   "language": "python",
   "name": "python3"
  },
  "language_info": {
   "codemirror_mode": {
    "name": "ipython",
    "version": 3
   },
   "file_extension": ".py",
   "mimetype": "text/x-python",
   "name": "python",
   "nbconvert_exporter": "python",
   "pygments_lexer": "ipython3",
   "version": "3.10.10"
  }
 },
 "nbformat": 4,
 "nbformat_minor": 4
}
